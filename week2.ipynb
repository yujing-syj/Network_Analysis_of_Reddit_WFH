{
  "nbformat": 4,
  "nbformat_minor": 0,
  "metadata": {
    "colab": {
      "provenance": [],
      "collapsed_sections": []
    },
    "kernelspec": {
      "name": "python3",
      "display_name": "Python 3"
    },
    "language_info": {
      "name": "python"
    }
  },
  "cells": [
    {
      "cell_type": "code",
      "execution_count": null,
      "metadata": {
        "id": "RtWdU47TGxQm"
      },
      "outputs": [],
      "source": [
        "# pip install git+https://github.com/sec-edgar/sec-edgar.git\n",
        "# pip install -U sec-edgar-downloader\n",
        "# pip install lxml beautifulsoup4"
      ]
    },
    {
      "cell_type": "markdown",
      "source": [
        "### Download Form-4 "
      ],
      "metadata": {
        "id": "RQD08tG7eF-I"
      }
    },
    {
      "cell_type": "code",
      "source": [
        "# Another way to download Form-4. Not working in .ipynb\n",
        "\n",
        "# from secedgar import CompanyFilings, FilingType\n",
        "# my_filings = CompanyFilings(cik_lookup='aapl',\n",
        "#               filing_type=FilingType.FILING_4,\n",
        "#               count=15,\n",
        "#               user_agent='Name (email)')"
      ],
      "metadata": {
        "id": "tzENPHLhG2Tk"
      },
      "execution_count": null,
      "outputs": []
    },
    {
      "cell_type": "code",
      "source": [
        "# Set download location\n",
        "from google.colab import drive\n",
        "drive.mount('/content/drive')\n",
        "%cd /content/drive/My Drive/prudential/"
      ],
      "metadata": {
        "id": "QF6Q5I73ecLI",
        "colab": {
          "base_uri": "https://localhost:8080/"
        },
        "outputId": "aee7b2d9-2765-4378-fe14-d88a00c502ef"
      },
      "execution_count": null,
      "outputs": [
        {
          "output_type": "stream",
          "name": "stdout",
          "text": [
            "Mounted at /content/drive\n",
            "/content/drive/My Drive/prudential\n"
          ]
        }
      ]
    },
    {
      "cell_type": "code",
      "source": [
        "# NO need to run again if the files are saved in the local. \n",
        "from sec_edgar_downloader import Downloader\n",
        "dl = Downloader(\".\")\n",
        "dl.get(\"4\", \"AMZN\", after=\"2015-01-01\", before=\"2020-12-31\")"
      ],
      "metadata": {
        "colab": {
          "base_uri": "https://localhost:8080/"
        },
        "id": "aOQnNOvxQpTk",
        "outputId": "ab907177-9dce-4a4c-b427-50b77df01456"
      },
      "execution_count": null,
      "outputs": [
        {
          "output_type": "execute_result",
          "data": {
            "text/plain": [
              "430"
            ]
          },
          "metadata": {},
          "execution_count": 11
        }
      ]
    },
    {
      "cell_type": "markdown",
      "source": [
        "### Extract the useful content from Form-4"
      ],
      "metadata": {
        "id": "xTA-sGbUer40"
      }
    },
    {
      "cell_type": "code",
      "source": [
        "from bs4 import BeautifulSoup\n",
        "import os\n",
        "import pandas as pd\n",
        "from datetime import datetime, timedelta\n",
        "import matplotlib.pyplot as plt\n",
        "from matplotlib.pyplot import figure\n",
        "from matplotlib.ticker import MaxNLocator, IndexFormatter"
      ],
      "metadata": {
        "id": "Q88pb-rlHNdO"
      },
      "execution_count": null,
      "outputs": []
    },
    {
      "cell_type": "code",
      "source": [
        "%cd /content/drive/My Drive/prudential/sec-edgar-filings/AMZN/4"
      ],
      "metadata": {
        "colab": {
          "base_uri": "https://localhost:8080/"
        },
        "id": "cknzLMAbJPoD",
        "outputId": "3a2b2c3b-7a2f-4ad5-bf00-996f282f4322"
      },
      "execution_count": null,
      "outputs": [
        {
          "output_type": "stream",
          "name": "stdout",
          "text": [
            "/content/drive/My Drive/prudential/sec-edgar-filings/AMZN/4\n"
          ]
        }
      ]
    },
    {
      "cell_type": "code",
      "source": [
        "path = r'/content/drive/My Drive/prudential/sec-edgar-filings/AMZN/4'\n",
        "filings = os.listdir(path)\n"
      ],
      "metadata": {
        "id": "0cMk9TxkfRes"
      },
      "execution_count": null,
      "outputs": []
    },
    {
      "cell_type": "code",
      "source": [
        "# Save all the filings into dic. Key is the filing's name and Value is the filing's content.\n",
        "dic = {}\n",
        "for filing in filings:\n",
        "  xml_file = os.path.join(filing, 'filing-details.xml')\n",
        "  with open(xml_file, 'r') as f:\n",
        "    file = f.read()\n",
        "    dic[filing] = file"
      ],
      "metadata": {
        "id": "UpvWiP2uH7cm"
      },
      "execution_count": null,
      "outputs": []
    },
    {
      "cell_type": "code",
      "source": [
        "# One example\n",
        "dic['0001018724-15-000162']"
      ],
      "metadata": {
        "colab": {
          "base_uri": "https://localhost:8080/",
          "height": 108
        },
        "id": "BARmzf-wiqqO",
        "outputId": "dfbe6bad-80a0-4e40-ee4d-dd45971df8eb"
      },
      "execution_count": null,
      "outputs": [
        {
          "output_type": "execute_result",
          "data": {
            "text/plain": [
              "'<?xml version=\"1.0\"?>\\n<ownershipDocument>\\n\\n    <schemaVersion>X0306</schemaVersion>\\n\\n    <documentType>4</documentType>\\n\\n    <periodOfReport>2015-11-15</periodOfReport>\\n\\n    <notSubjectToSection16>0</notSubjectToSection16>\\n\\n    <issuer>\\n        <issuerCik>0001018724</issuerCik>\\n        <issuerName>AMAZON COM INC</issuerName>\\n        <issuerTradingSymbol>AMZN</issuerTradingSymbol>\\n    </issuer>\\n\\n    <reportingOwner>\\n        <reportingOwnerId>\\n            <rptOwnerCik>0001184755</rptOwnerCik>\\n            <rptOwnerName>PIACENTINI DIEGO</rptOwnerName>\\n        </reportingOwnerId>\\n        <reportingOwnerAddress>\\n            <rptOwnerStreet1>P.O. BOX 81226</rptOwnerStreet1>\\n            <rptOwnerStreet2></rptOwnerStreet2>\\n            <rptOwnerCity>SEATTLE</rptOwnerCity>\\n            <rptOwnerState>WA</rptOwnerState>\\n            <rptOwnerZipCode>98108-1226</rptOwnerZipCode>\\n            <rptOwnerStateDescription></rptOwnerStateDescription>\\n        </reportingOwnerAddress>\\n        <reportingOwnerRelationship>\\n            <isDirector>0</isDirector>\\n            <isOfficer>1</isOfficer>\\n            <isTenPercentOwner>0</isTenPercentOwner>\\n            <isOther>0</isOther>\\n            <officerTitle>Senior Vice President</officerTitle>\\n            <otherText></otherText>\\n        </reportingOwnerRelationship>\\n    </reportingOwner>\\n\\n    <nonDerivativeTable>\\n        <nonDerivativeTransaction>\\n            <securityTitle>\\n                <value>Common Stock, par value $.01 per share</value>\\n            </securityTitle>\\n            <transactionDate>\\n                <value>2015-11-15</value>\\n            </transactionDate>\\n            <transactionCoding>\\n                <transactionFormType>4</transactionFormType>\\n                <transactionCode>M</transactionCode>\\n                <equitySwapInvolved>0</equitySwapInvolved>\\n            </transactionCoding>\\n            <transactionAmounts>\\n                <transactionShares>\\n                    <value>1266</value>\\n                </transactionShares>\\n                <transactionPricePerShare>\\n                    <value>0</value>\\n                </transactionPricePerShare>\\n                <transactionAcquiredDisposedCode>\\n                    <value>A</value>\\n                </transactionAcquiredDisposedCode>\\n            </transactionAmounts>\\n            <postTransactionAmounts>\\n                <sharesOwnedFollowingTransaction>\\n                    <value>100412</value>\\n                </sharesOwnedFollowingTransaction>\\n            </postTransactionAmounts>\\n            <ownershipNature>\\n                <directOrIndirectOwnership>\\n                    <value>I</value>\\n                </directOrIndirectOwnership>\\n                <natureOfOwnership>\\n                    <value>In trust</value>\\n                </natureOfOwnership>\\n            </ownershipNature>\\n        </nonDerivativeTransaction>\\n        <nonDerivativeTransaction>\\n            <securityTitle>\\n                <value>Common Stock, par value $.01 per share</value>\\n            </securityTitle>\\n            <transactionDate>\\n                <value>2015-11-15</value>\\n            </transactionDate>\\n            <transactionCoding>\\n                <transactionFormType>4</transactionFormType>\\n                <transactionCode>M</transactionCode>\\n                <equitySwapInvolved>0</equitySwapInvolved>\\n            </transactionCoding>\\n            <transactionAmounts>\\n                <transactionShares>\\n                    <value>5750</value>\\n                </transactionShares>\\n                <transactionPricePerShare>\\n                    <value>0</value>\\n                </transactionPricePerShare>\\n                <transactionAcquiredDisposedCode>\\n                    <value>A</value>\\n                </transactionAcquiredDisposedCode>\\n            </transactionAmounts>\\n            <postTransactionAmounts>\\n                <sharesOwnedFollowingTransaction>\\n                    <value>106162</value>\\n                </sharesOwnedFollowingTransaction>\\n            </postTransactionAmounts>\\n            <ownershipNature>\\n                <directOrIndirectOwnership>\\n                    <value>I</value>\\n                </directOrIndirectOwnership>\\n                <natureOfOwnership>\\n                    <value>In trust</value>\\n                </natureOfOwnership>\\n            </ownershipNature>\\n        </nonDerivativeTransaction>\\n        <nonDerivativeTransaction>\\n            <securityTitle>\\n                <value>Common Stock, par value $.01 per share</value>\\n            </securityTitle>\\n            <transactionDate>\\n                <value>2015-11-16</value>\\n            </transactionDate>\\n            <transactionCoding>\\n                <transactionFormType>4</transactionFormType>\\n                <transactionCode>S</transactionCode>\\n                <equitySwapInvolved>0</equitySwapInvolved>\\n                <footnoteId id=\"F1\"/>\\n            </transactionCoding>\\n            <transactionAmounts>\\n                <transactionShares>\\n                    <value>500</value>\\n                </transactionShares>\\n                <transactionPricePerShare>\\n                    <value>622.788</value>\\n                    <footnoteId id=\"F2\"/>\\n                </transactionPricePerShare>\\n                <transactionAcquiredDisposedCode>\\n                    <value>D</value>\\n                </transactionAcquiredDisposedCode>\\n            </transactionAmounts>\\n            <postTransactionAmounts>\\n                <sharesOwnedFollowingTransaction>\\n                    <value>105662</value>\\n                </sharesOwnedFollowingTransaction>\\n            </postTransactionAmounts>\\n            <ownershipNature>\\n                <directOrIndirectOwnership>\\n                    <value>I</value>\\n                </directOrIndirectOwnership>\\n                <natureOfOwnership>\\n                    <value>In trust</value>\\n                </natureOfOwnership>\\n            </ownershipNature>\\n        </nonDerivativeTransaction>\\n        <nonDerivativeTransaction>\\n            <securityTitle>\\n                <value>Common Stock, par value $.01 per share</value>\\n            </securityTitle>\\n            <transactionDate>\\n                <value>2015-11-16</value>\\n            </transactionDate>\\n            <transactionCoding>\\n                <transactionFormType>4</transactionFormType>\\n                <transactionCode>S</transactionCode>\\n                <equitySwapInvolved>0</equitySwapInvolved>\\n                <footnoteId id=\"F1\"/>\\n            </transactionCoding>\\n            <transactionAmounts>\\n                <transactionShares>\\n                    <value>500</value>\\n                </transactionShares>\\n                <transactionPricePerShare>\\n                    <value>623.818</value>\\n                    <footnoteId id=\"F3\"/>\\n                </transactionPricePerShare>\\n                <transactionAcquiredDisposedCode>\\n                    <value>D</value>\\n                </transactionAcquiredDisposedCode>\\n            </transactionAmounts>\\n            <postTransactionAmounts>\\n                <sharesOwnedFollowingTransaction>\\n                    <value>105162</value>\\n                </sharesOwnedFollowingTransaction>\\n            </postTransactionAmounts>\\n            <ownershipNature>\\n                <directOrIndirectOwnership>\\n                    <value>I</value>\\n                </directOrIndirectOwnership>\\n                <natureOfOwnership>\\n                    <value>In trust</value>\\n                </natureOfOwnership>\\n            </ownershipNature>\\n        </nonDerivativeTransaction>\\n        <nonDerivativeTransaction>\\n            <securityTitle>\\n                <value>Common Stock, par value $.01 per share</value>\\n            </securityTitle>\\n            <transactionDate>\\n                <value>2015-11-16</value>\\n            </transactionDate>\\n            <transactionCoding>\\n                <transactionFormType>4</transactionFormType>\\n                <transactionCode>S</transactionCode>\\n                <equitySwapInvolved>0</equitySwapInvolved>\\n                <footnoteId id=\"F1\"/>\\n            </transactionCoding>\\n            <transactionAmounts>\\n                <transactionShares>\\n                    <value>1063</value>\\n                </transactionShares>\\n                <transactionPricePerShare>\\n                    <value>625.119</value>\\n                    <footnoteId id=\"F4\"/>\\n                </transactionPricePerShare>\\n                <transactionAcquiredDisposedCode>\\n                    <value>D</value>\\n                </transactionAcquiredDisposedCode>\\n            </transactionAmounts>\\n            <postTransactionAmounts>\\n                <sharesOwnedFollowingTransaction>\\n                    <value>104099</value>\\n                </sharesOwnedFollowingTransaction>\\n            </postTransactionAmounts>\\n            <ownershipNature>\\n                <directOrIndirectOwnership>\\n                    <value>I</value>\\n                </directOrIndirectOwnership>\\n                <natureOfOwnership>\\n                    <value>In trust</value>\\n                </natureOfOwnership>\\n            </ownershipNature>\\n        </nonDerivativeTransaction>\\n        <nonDerivativeTransaction>\\n            <securityTitle>\\n                <value>Common Stock, par value $.01 per share</value>\\n            </securityTitle>\\n            <transactionDate>\\n                <value>2015-11-16</value>\\n            </transactionDate>\\n            <transactionCoding>\\n                <transactionFormType>4</transactionFormType>\\n                <transactionCode>S</transactionCode>\\n                <equitySwapInvolved>0</equitySwapInvolved>\\n                <footnoteId id=\"F1\"/>\\n            </transactionCoding>\\n            <transactionAmounts>\\n                <transactionShares>\\n                    <value>1340</value>\\n                </transactionShares>\\n                <transactionPricePerShare>\\n                    <value>626.3158</value>\\n                    <footnoteId id=\"F5\"/>\\n                </transactionPricePerShare>\\n                <transactionAcquiredDisposedCode>\\n                    <value>D</value>\\n                </transactionAcquiredDisposedCode>\\n            </transactionAmounts>\\n            <postTransactionAmounts>\\n                <sharesOwnedFollowingTransaction>\\n                    <value>102759</value>\\n                </sharesOwnedFollowingTransaction>\\n            </postTransactionAmounts>\\n            <ownershipNature>\\n                <directOrIndirectOwnership>\\n                    <value>I</value>\\n                </directOrIndirectOwnership>\\n                <natureOfOwnership>\\n                    <value>In trust</value>\\n                </natureOfOwnership>\\n            </ownershipNature>\\n        </nonDerivativeTransaction>\\n        <nonDerivativeTransaction>\\n            <securityTitle>\\n                <value>Common Stock, par value $.01 per share</value>\\n            </securityTitle>\\n            <transactionDate>\\n                <value>2015-11-16</value>\\n            </transactionDate>\\n            <transactionCoding>\\n                <transactionFormType>4</transactionFormType>\\n                <transactionCode>S</transactionCode>\\n                <equitySwapInvolved>0</equitySwapInvolved>\\n                <footnoteId id=\"F1\"/>\\n            </transactionCoding>\\n            <transactionAmounts>\\n                <transactionShares>\\n                    <value>900</value>\\n                </transactionShares>\\n                <transactionPricePerShare>\\n                    <value>627.1644</value>\\n                    <footnoteId id=\"F6\"/>\\n                </transactionPricePerShare>\\n                <transactionAcquiredDisposedCode>\\n                    <value>D</value>\\n                </transactionAcquiredDisposedCode>\\n            </transactionAmounts>\\n            <postTransactionAmounts>\\n                <sharesOwnedFollowingTransaction>\\n                    <value>101859</value>\\n                </sharesOwnedFollowingTransaction>\\n            </postTransactionAmounts>\\n            <ownershipNature>\\n                <directOrIndirectOwnership>\\n                    <value>I</value>\\n                </directOrIndirectOwnership>\\n                <natureOfOwnership>\\n                    <value>In trust</value>\\n                </natureOfOwnership>\\n            </ownershipNature>\\n        </nonDerivativeTransaction>\\n        <nonDerivativeTransaction>\\n            <securityTitle>\\n                <value>Common Stock, par value $.01 per share</value>\\n            </securityTitle>\\n            <transactionDate>\\n                <value>2015-11-16</value>\\n            </transactionDate>\\n            <transactionCoding>\\n                <transactionFormType>4</transactionFormType>\\n                <transactionCode>S</transactionCode>\\n                <equitySwapInvolved>0</equitySwapInvolved>\\n                <footnoteId id=\"F1\"/>\\n            </transactionCoding>\\n            <transactionAmounts>\\n                <transactionShares>\\n                    <value>1959</value>\\n                </transactionShares>\\n                <transactionPricePerShare>\\n                    <value>628.2369</value>\\n                    <footnoteId id=\"F7\"/>\\n                </transactionPricePerShare>\\n                <transactionAcquiredDisposedCode>\\n                    <value>D</value>\\n                </transactionAcquiredDisposedCode>\\n            </transactionAmounts>\\n            <postTransactionAmounts>\\n                <sharesOwnedFollowingTransaction>\\n                    <value>99900</value>\\n                </sharesOwnedFollowingTransaction>\\n            </postTransactionAmounts>\\n            <ownershipNature>\\n                <directOrIndirectOwnership>\\n                    <value>I</value>\\n                </directOrIndirectOwnership>\\n                <natureOfOwnership>\\n                    <value>In trust</value>\\n                </natureOfOwnership>\\n            </ownershipNature>\\n        </nonDerivativeTransaction>\\n        <nonDerivativeTransaction>\\n            <securityTitle>\\n                <value>Common Stock, par value $.01 per share</value>\\n            </securityTitle>\\n            <transactionDate>\\n                <value>2015-11-16</value>\\n            </transactionDate>\\n            <transactionCoding>\\n                <transactionFormType>4</transactionFormType>\\n                <transactionCode>S</transactionCode>\\n                <equitySwapInvolved>0</equitySwapInvolved>\\n                <footnoteId id=\"F1\"/>\\n            </transactionCoding>\\n            <transactionAmounts>\\n                <transactionShares>\\n                    <value>2368</value>\\n                </transactionShares>\\n                <transactionPricePerShare>\\n                    <value>629.4947</value>\\n                    <footnoteId id=\"F8\"/>\\n                </transactionPricePerShare>\\n                <transactionAcquiredDisposedCode>\\n                    <value>D</value>\\n                </transactionAcquiredDisposedCode>\\n            </transactionAmounts>\\n            <postTransactionAmounts>\\n                <sharesOwnedFollowingTransaction>\\n                    <value>97532</value>\\n                </sharesOwnedFollowingTransaction>\\n            </postTransactionAmounts>\\n            <ownershipNature>\\n                <directOrIndirectOwnership>\\n                    <value>I</value>\\n                </directOrIndirectOwnership>\\n                <natureOfOwnership>\\n                    <value>In trust</value>\\n                </natureOfOwnership>\\n            </ownershipNature>\\n        </nonDerivativeTransaction>\\n        <nonDerivativeTransaction>\\n            <securityTitle>\\n                <value>Common Stock, par value $.01 per share</value>\\n            </securityTitle>\\n            <transactionDate>\\n                <value>2015-11-16</value>\\n            </transactionDate>\\n            <transactionCoding>\\n                <transactionFormType>4</transactionFormType>\\n                <transactionCode>S</transactionCode>\\n                <equitySwapInvolved>0</equitySwapInvolved>\\n                <footnoteId id=\"F1\"/>\\n            </transactionCoding>\\n            <transactionAmounts>\\n                <transactionShares>\\n                    <value>2291</value>\\n                </transactionShares>\\n                <transactionPricePerShare>\\n                    <value>630.5056</value>\\n                    <footnoteId id=\"F9\"/>\\n                </transactionPricePerShare>\\n                <transactionAcquiredDisposedCode>\\n                    <value>D</value>\\n                </transactionAcquiredDisposedCode>\\n            </transactionAmounts>\\n            <postTransactionAmounts>\\n                <sharesOwnedFollowingTransaction>\\n                    <value>95241</value>\\n                </sharesOwnedFollowingTransaction>\\n            </postTransactionAmounts>\\n            <ownershipNature>\\n                <directOrIndirectOwnership>\\n                    <value>I</value>\\n                </directOrIndirectOwnership>\\n                <natureOfOwnership>\\n                    <value>In trust</value>\\n                </natureOfOwnership>\\n            </ownershipNature>\\n        </nonDerivativeTransaction>\\n        <nonDerivativeTransaction>\\n            <securityTitle>\\n                <value>Common Stock, par value $.01 per share</value>\\n            </securityTitle>\\n            <transactionDate>\\n                <value>2015-11-16</value>\\n            </transactionDate>\\n            <transactionCoding>\\n                <transactionFormType>4</transactionFormType>\\n                <transactionCode>S</transactionCode>\\n                <equitySwapInvolved>0</equitySwapInvolved>\\n                <footnoteId id=\"F1\"/>\\n            </transactionCoding>\\n            <transactionAmounts>\\n                <transactionShares>\\n                    <value>300</value>\\n                </transactionShares>\\n                <transactionPricePerShare>\\n                    <value>631.2067</value>\\n                    <footnoteId id=\"F10\"/>\\n                </transactionPricePerShare>\\n                <transactionAcquiredDisposedCode>\\n                    <value>D</value>\\n                </transactionAcquiredDisposedCode>\\n            </transactionAmounts>\\n            <postTransactionAmounts>\\n                <sharesOwnedFollowingTransaction>\\n                    <value>94941</value>\\n                </sharesOwnedFollowingTransaction>\\n            </postTransactionAmounts>\\n            <ownershipNature>\\n                <directOrIndirectOwnership>\\n                    <value>I</value>\\n                </directOrIndirectOwnership>\\n                <natureOfOwnership>\\n                    <value>In trust</value>\\n                </natureOfOwnership>\\n            </ownershipNature>\\n        </nonDerivativeTransaction>\\n        <nonDerivativeTransaction>\\n            <securityTitle>\\n                <value>Common Stock, par value $.01 per share</value>\\n            </securityTitle>\\n            <transactionDate>\\n                <value>2015-11-16</value>\\n            </transactionDate>\\n            <transactionCoding>\\n                <transactionFormType>4</transactionFormType>\\n                <transactionCode>S</transactionCode>\\n                <equitySwapInvolved>0</equitySwapInvolved>\\n                <footnoteId id=\"F1\"/>\\n            </transactionCoding>\\n            <transactionAmounts>\\n                <transactionShares>\\n                    <value>801</value>\\n                </transactionShares>\\n                <transactionPricePerShare>\\n                    <value>632.4393</value>\\n                    <footnoteId id=\"F11\"/>\\n                </transactionPricePerShare>\\n                <transactionAcquiredDisposedCode>\\n                    <value>D</value>\\n                </transactionAcquiredDisposedCode>\\n            </transactionAmounts>\\n            <postTransactionAmounts>\\n                <sharesOwnedFollowingTransaction>\\n                    <value>94140</value>\\n                </sharesOwnedFollowingTransaction>\\n            </postTransactionAmounts>\\n            <ownershipNature>\\n                <directOrIndirectOwnership>\\n                    <value>I</value>\\n                </directOrIndirectOwnership>\\n                <natureOfOwnership>\\n                    <value>In trust</value>\\n                </natureOfOwnership>\\n            </ownershipNature>\\n        </nonDerivativeTransaction>\\n        <nonDerivativeTransaction>\\n            <securityTitle>\\n                <value>Common Stock, par value $.01 per share</value>\\n            </securityTitle>\\n            <transactionDate>\\n                <value>2015-11-16</value>\\n            </transactionDate>\\n            <transactionCoding>\\n                <transactionFormType>4</transactionFormType>\\n                <transactionCode>S</transactionCode>\\n                <equitySwapInvolved>0</equitySwapInvolved>\\n                <footnoteId id=\"F1\"/>\\n            </transactionCoding>\\n            <transactionAmounts>\\n                <transactionShares>\\n                    <value>500</value>\\n                </transactionShares>\\n                <transactionPricePerShare>\\n                    <value>633.924</value>\\n                    <footnoteId id=\"F12\"/>\\n                </transactionPricePerShare>\\n                <transactionAcquiredDisposedCode>\\n                    <value>D</value>\\n                </transactionAcquiredDisposedCode>\\n            </transactionAmounts>\\n            <postTransactionAmounts>\\n                <sharesOwnedFollowingTransaction>\\n                    <value>93640</value>\\n                </sharesOwnedFollowingTransaction>\\n            </postTransactionAmounts>\\n            <ownershipNature>\\n                <directOrIndirectOwnership>\\n                    <value>I</value>\\n                </directOrIndirectOwnership>\\n                <natureOfOwnership>\\n                    <value>In trust</value>\\n                </natureOfOwnership>\\n            </ownershipNature>\\n        </nonDerivativeTransaction>\\n        <nonDerivativeTransaction>\\n            <securityTitle>\\n                <value>Common Stock, par value $.01 per share</value>\\n            </securityTitle>\\n            <transactionDate>\\n                <value>2015-11-16</value>\\n            </transactionDate>\\n            <transactionCoding>\\n                <transactionFormType>4</transactionFormType>\\n                <transactionCode>S</transactionCode>\\n                <equitySwapInvolved>0</equitySwapInvolved>\\n                <footnoteId id=\"F1\"/>\\n            </transactionCoding>\\n            <transactionAmounts>\\n                <transactionShares>\\n                    <value>200</value>\\n                </transactionShares>\\n                <transactionPricePerShare>\\n                    <value>634.28</value>\\n                    <footnoteId id=\"F13\"/>\\n                </transactionPricePerShare>\\n                <transactionAcquiredDisposedCode>\\n                    <value>D</value>\\n                </transactionAcquiredDisposedCode>\\n            </transactionAmounts>\\n            <postTransactionAmounts>\\n                <sharesOwnedFollowingTransaction>\\n                    <value>93440</value>\\n                </sharesOwnedFollowingTransaction>\\n            </postTransactionAmounts>\\n            <ownershipNature>\\n                <directOrIndirectOwnership>\\n                    <value>I</value>\\n                </directOrIndirectOwnership>\\n                <natureOfOwnership>\\n                    <value>In trust</value>\\n                </natureOfOwnership>\\n            </ownershipNature>\\n        </nonDerivativeTransaction>\\n        <nonDerivativeTransaction>\\n            <securityTitle>\\n                <value>Common Stock, par value $.01 per share</value>\\n            </securityTitle>\\n            <transactionDate>\\n                <value>2015-11-16</value>\\n            </transactionDate>\\n            <transactionCoding>\\n                <transactionFormType>4</transactionFormType>\\n                <transactionCode>S</transactionCode>\\n                <equitySwapInvolved>0</equitySwapInvolved>\\n                <footnoteId id=\"F1\"/>\\n            </transactionCoding>\\n            <transactionAmounts>\\n                <transactionShares>\\n                    <value>1072</value>\\n                </transactionShares>\\n                <transactionPricePerShare>\\n                    <value>636.0163</value>\\n                    <footnoteId id=\"F14\"/>\\n                </transactionPricePerShare>\\n                <transactionAcquiredDisposedCode>\\n                    <value>D</value>\\n                </transactionAcquiredDisposedCode>\\n            </transactionAmounts>\\n            <postTransactionAmounts>\\n                <sharesOwnedFollowingTransaction>\\n                    <value>92368</value>\\n                </sharesOwnedFollowingTransaction>\\n            </postTransactionAmounts>\\n            <ownershipNature>\\n                <directOrIndirectOwnership>\\n                    <value>I</value>\\n                </directOrIndirectOwnership>\\n                <natureOfOwnership>\\n                    <value>In trust</value>\\n                </natureOfOwnership>\\n            </ownershipNature>\\n        </nonDerivativeTransaction>\\n        <nonDerivativeTransaction>\\n            <securityTitle>\\n                <value>Common Stock, par value $.01 per share</value>\\n            </securityTitle>\\n            <transactionDate>\\n                <value>2015-11-16</value>\\n            </transactionDate>\\n            <transactionCoding>\\n                <transactionFormType>4</transactionFormType>\\n                <transactionCode>S</transactionCode>\\n                <equitySwapInvolved>0</equitySwapInvolved>\\n                <footnoteId id=\"F1\"/>\\n            </transactionCoding>\\n            <transactionAmounts>\\n                <transactionShares>\\n                    <value>1600</value>\\n                </transactionShares>\\n                <transactionPricePerShare>\\n                    <value>637.469</value>\\n                    <footnoteId id=\"F15\"/>\\n                </transactionPricePerShare>\\n                <transactionAcquiredDisposedCode>\\n                    <value>D</value>\\n                </transactionAcquiredDisposedCode>\\n            </transactionAmounts>\\n            <postTransactionAmounts>\\n                <sharesOwnedFollowingTransaction>\\n                    <value>90768</value>\\n                </sharesOwnedFollowingTransaction>\\n            </postTransactionAmounts>\\n            <ownershipNature>\\n                <directOrIndirectOwnership>\\n                    <value>I</value>\\n                </directOrIndirectOwnership>\\n                <natureOfOwnership>\\n                    <value>In trust</value>\\n                </natureOfOwnership>\\n            </ownershipNature>\\n        </nonDerivativeTransaction>\\n        <nonDerivativeTransaction>\\n            <securityTitle>\\n                <value>Common Stock, par value $.01 per share</value>\\n            </securityTitle>\\n            <transactionDate>\\n                <value>2015-11-16</value>\\n            </transactionDate>\\n            <transactionCoding>\\n                <transactionFormType>4</transactionFormType>\\n                <transactionCode>S</transactionCode>\\n                <equitySwapInvolved>0</equitySwapInvolved>\\n                <footnoteId id=\"F1\"/>\\n            </transactionCoding>\\n            <transactionAmounts>\\n                <transactionShares>\\n                    <value>1422</value>\\n                </transactionShares>\\n                <transactionPricePerShare>\\n                    <value>638.7849</value>\\n                    <footnoteId id=\"F16\"/>\\n                </transactionPricePerShare>\\n                <transactionAcquiredDisposedCode>\\n                    <value>D</value>\\n                </transactionAcquiredDisposedCode>\\n            </transactionAmounts>\\n            <postTransactionAmounts>\\n                <sharesOwnedFollowingTransaction>\\n                    <value>89346</value>\\n                </sharesOwnedFollowingTransaction>\\n            </postTransactionAmounts>\\n            <ownershipNature>\\n                <directOrIndirectOwnership>\\n                    <value>I</value>\\n                </directOrIndirectOwnership>\\n                <natureOfOwnership>\\n                    <value>In trust</value>\\n                </natureOfOwnership>\\n            </ownershipNature>\\n        </nonDerivativeTransaction>\\n        <nonDerivativeTransaction>\\n            <securityTitle>\\n                <value>Common Stock, par value $.01 per share</value>\\n            </securityTitle>\\n            <transactionDate>\\n                <value>2015-11-16</value>\\n            </transactionDate>\\n            <transactionCoding>\\n                <transactionFormType>4</transactionFormType>\\n                <transactionCode>S</transactionCode>\\n                <equitySwapInvolved>0</equitySwapInvolved>\\n                <footnoteId id=\"F1\"/>\\n            </transactionCoding>\\n            <transactionAmounts>\\n                <transactionShares>\\n                    <value>200</value>\\n                </transactionShares>\\n                <transactionPricePerShare>\\n                    <value>639.93</value>\\n                    <footnoteId id=\"F17\"/>\\n                </transactionPricePerShare>\\n                <transactionAcquiredDisposedCode>\\n                    <value>D</value>\\n                </transactionAcquiredDisposedCode>\\n            </transactionAmounts>\\n            <postTransactionAmounts>\\n                <sharesOwnedFollowingTransaction>\\n                    <value>89146</value>\\n                </sharesOwnedFollowingTransaction>\\n            </postTransactionAmounts>\\n            <ownershipNature>\\n                <directOrIndirectOwnership>\\n                    <value>I</value>\\n                </directOrIndirectOwnership>\\n                <natureOfOwnership>\\n                    <value>In trust</value>\\n                </natureOfOwnership>\\n            </ownershipNature>\\n        </nonDerivativeTransaction>\\n    </nonDerivativeTable>\\n\\n    <derivativeTable>\\n        <derivativeTransaction>\\n            <securityTitle>\\n                <value>Restricted Stock Unit Award</value>\\n            </securityTitle>\\n            <conversionOrExercisePrice>\\n                <value>0.0</value>\\n                <footnoteId id=\"F18\"/>\\n            </conversionOrExercisePrice>\\n            <transactionDate>\\n                <value>2015-11-15</value>\\n            </transactionDate>\\n            <transactionCoding>\\n                <transactionFormType>4</transactionFormType>\\n                <transactionCode>M</transactionCode>\\n                <equitySwapInvolved>0</equitySwapInvolved>\\n            </transactionCoding>\\n            <transactionAmounts>\\n                <transactionShares>\\n                    <value>1266</value>\\n                </transactionShares>\\n                <transactionPricePerShare>\\n                    <value>0</value>\\n                </transactionPricePerShare>\\n                <transactionAcquiredDisposedCode>\\n                    <value>D</value>\\n                </transactionAcquiredDisposedCode>\\n            </transactionAmounts>\\n            <exerciseDate>\\n                <value>2013-05-15</value>\\n                <footnoteId id=\"F19\"/>\\n            </exerciseDate>\\n            <expirationDate>\\n                <value>2018-02-15</value>\\n            </expirationDate>\\n            <underlyingSecurity>\\n                <underlyingSecurityTitle>\\n                    <value>Common Stock, par value $.01 per share</value>\\n                </underlyingSecurityTitle>\\n                <underlyingSecurityShares>\\n                    <value>1266.0</value>\\n                </underlyingSecurityShares>\\n            </underlyingSecurity>\\n            <postTransactionAmounts>\\n                <sharesOwnedFollowingTransaction>\\n                    <value>40057</value>\\n                </sharesOwnedFollowingTransaction>\\n            </postTransactionAmounts>\\n            <ownershipNature>\\n                <directOrIndirectOwnership>\\n                    <value>D</value>\\n                </directOrIndirectOwnership>\\n            </ownershipNature>\\n        </derivativeTransaction>\\n        <derivativeTransaction>\\n            <securityTitle>\\n                <value>Restricted Stock Unit Award</value>\\n            </securityTitle>\\n            <conversionOrExercisePrice>\\n                <value>0.0</value>\\n                <footnoteId id=\"F18\"/>\\n            </conversionOrExercisePrice>\\n            <transactionDate>\\n                <value>2015-11-15</value>\\n            </transactionDate>\\n            <transactionCoding>\\n                <transactionFormType>4</transactionFormType>\\n                <transactionCode>M</transactionCode>\\n                <equitySwapInvolved>0</equitySwapInvolved>\\n            </transactionCoding>\\n            <transactionAmounts>\\n                <transactionShares>\\n                    <value>5750</value>\\n                </transactionShares>\\n                <transactionPricePerShare>\\n                    <value>0</value>\\n                </transactionPricePerShare>\\n                <transactionAcquiredDisposedCode>\\n                    <value>D</value>\\n                </transactionAcquiredDisposedCode>\\n            </transactionAmounts>\\n            <exerciseDate>\\n                <value>2014-05-15</value>\\n                <footnoteId id=\"F20\"/>\\n            </exerciseDate>\\n            <expirationDate>\\n                <value>2016-02-15</value>\\n            </expirationDate>\\n            <underlyingSecurity>\\n                <underlyingSecurityTitle>\\n                    <value>Common Stock, par value $.01 per share</value>\\n                </underlyingSecurityTitle>\\n                <underlyingSecurityShares>\\n                    <value>5750.0</value>\\n                </underlyingSecurityShares>\\n            </underlyingSecurity>\\n            <postTransactionAmounts>\\n                <sharesOwnedFollowingTransaction>\\n                    <value>5750</value>\\n                </sharesOwnedFollowingTransaction>\\n            </postTransactionAmounts>\\n            <ownershipNature>\\n                <directOrIndirectOwnership>\\n                    <value>D</value>\\n                </directOrIndirectOwnership>\\n            </ownershipNature>\\n        </derivativeTransaction>\\n    </derivativeTable>\\n\\n    <footnotes>\\n        <footnote id=\"F1\">This transaction was effected pursuant to a Rule 10b5-1 trading plan adopted by the reporting person.</footnote>\\n        <footnote id=\"F2\">Represents the weighted average sale price. The highest price at which shares were sold was $623.22 and the lowest price at which shares were sold was $622.37.</footnote>\\n        <footnote id=\"F3\">Represents the weighted average sale price. The highest price at which shares were sold was $624.16 and the lowest price at which shares were sold was $623.55.</footnote>\\n        <footnote id=\"F4\">Represents the weighted average sale price. The highest price at which shares were sold was $625.50 and the lowest price at which shares were sold was $624.60.</footnote>\\n        <footnote id=\"F5\">Represents the weighted average sale price. The highest price at which shares were sold was $626.55 and the lowest price at which shares were sold was $625.68.</footnote>\\n        <footnote id=\"F6\">Represents the weighted average sale price. The highest price at which shares were sold was $627.55 and the lowest price at which shares were sold was $626.79.</footnote>\\n        <footnote id=\"F7\">Represents the weighted average sale price. The highest price at which shares were sold was $628.57 and the lowest price at which shares were sold was $627.80.</footnote>\\n        <footnote id=\"F8\">Represents the weighted average sale price. The highest price at which shares were sold was $629.95 and the lowest price at which shares were sold was $628.96.</footnote>\\n        <footnote id=\"F9\">Represents the weighted average sale price. The highest price at which shares were sold was $630.98 and the lowest price at which shares were sold was $630.00.</footnote>\\n        <footnote id=\"F10\">Represents the weighted average sale price. The highest price at which shares were sold was $631.45 and the lowest price at which shares were sold was $631.05.</footnote>\\n        <footnote id=\"F11\">Represents the weighted average sale price. The highest price at which shares were sold was $632.89 and the lowest price at which shares were sold was $632.05.</footnote>\\n        <footnote id=\"F12\">Represents the weighted average sale price. The highest price at which shares were sold was $634.18 and the lowest price at which shares were sold was $633.23.</footnote>\\n        <footnote id=\"F13\">Represents the weighted average sale price. The highest price at which shares were sold was $634.30 and the lowest price at which shares were sold was $634.26.</footnote>\\n        <footnote id=\"F14\">Represents the weighted average sale price. The highest price at which shares were sold was $636.34 and the lowest price at which shares were sold was $635.89.</footnote>\\n        <footnote id=\"F15\">Represents the weighted average sale price. The highest price at which shares were sold was $637.83 and the lowest price at which shares were sold was $637.05.</footnote>\\n        <footnote id=\"F16\">Represents the weighted average sale price. The highest price at which shares were sold was $639.03 and the lowest price at which shares were sold was $638.28.</footnote>\\n        <footnote id=\"F17\">Represents the weighted average sale price. The highest price at which shares were sold was $639.96 and the lowest price at which shares were sold was $639.90.</footnote>\\n        <footnote id=\"F18\">Converts into Common Stock on a one-for-one basis.</footnote>\\n        <footnote id=\"F19\">This award vests based upon the following vesting schedule and the satisfaction of certain business criteria intended to qualify the award as tax-deductible compensation under Section 162(m) of the Internal Revenue Code: 1,779 shares on each of May 15, 2013, August 15, 2013, November 15, 2013, and February 15, 2014; 2,319 shares on each of May 15, 2014 and August 15, 2014; 2,318 shares on each of November 15, 2014 and February 15, 2015; 1,267 shares on May 15, 2015; 1,266 shares on each of August 15, 2015, November 15, 2015, and February 15, 2016; 5,478 shares on May 15, 2016; 5,477 shares on each of August 15, 2016, November 15, 2016, and February 15, 2017; 4,221 shares on each of May 15, 2017 and August 15, 2017; and 4,220 shares on each of November 15, 2017 and February 15, 2018.</footnote>\\n        <footnote id=\"F20\">This award vests based upon the following vesting schedule and the satisfaction of certain business criteria intended to qualify the award as tax-deductible compensation under Section 162(m) of the Internal Revenue Code: 5,750 shares on each of May 15, 2014, August 15, 2014, November 15, 2014, February 15, 2015, May 15, 2015, August 15, 2015, November 15, 2015, and February 15, 2016.</footnote>\\n    </footnotes>\\n\\n    <remarks>The reporting person undertakes to provide, upon request by the staff of the SEC, the issuer, or a security holder of the issuer, full information regarding the number of shares transacted at each price, with respect to all transactions reported on this Form 4.</remarks>\\n\\n    <ownerSignature>\\n        <signatureName>/s/  DIEGO PIACENTINI, Senior Vice President</signatureName>\\n        <signatureDate>2015-11-17</signatureDate>\\n    </ownerSignature>\\n</ownershipDocument>\\n'"
            ],
            "application/vnd.google.colaboratory.intrinsic+json": {
              "type": "string"
            }
          },
          "metadata": {},
          "execution_count": 12
        }
      ]
    },
    {
      "cell_type": "code",
      "source": [
        "len(dic.keys())"
      ],
      "metadata": {
        "colab": {
          "base_uri": "https://localhost:8080/"
        },
        "id": "uEocTNzvYSh7",
        "outputId": "4385489c-a100-48c6-e48c-5d5f8a394078"
      },
      "execution_count": null,
      "outputs": [
        {
          "output_type": "execute_result",
          "data": {
            "text/plain": [
              "430"
            ]
          },
          "metadata": {},
          "execution_count": 13
        }
      ]
    },
    {
      "cell_type": "code",
      "source": [
        "num_job = {} # The dictionary where keys are the job title and values are the number of job title that appears between 2015 to 2020.\n",
        "num_eachweek = {} # The dictionary where keys are the first date of the week that the filing appears, and values are the num of filings that appear in that week.\n",
        "for k,v in dic.items():\n",
        "  soup = BeautifulSoup(v, 'xml')\n",
        "  title = soup.find_all('officerTitle')\n",
        "  for t in title:\n",
        "    if t.text not in num_job.keys():\n",
        "      num_job[t.text] = 0\n",
        "    else:\n",
        "      num_job[t.text] += 1\n",
        "    if t.text is not '': # Only report Form-4 with job title!\n",
        "      date = soup.find_all('transactionDate') # We use the first transaction date to record Form-4.\n",
        "      dt = datetime.strptime(date[0].text,'\\n%Y-%m-%d\\n')\n",
        "      start = dt - timedelta(days=dt.weekday())\n",
        "      date_of_week = str(start)[:10] # Swith the date into the first date of that week.\n",
        "      if date_of_week not in num_eachweek.keys():\n",
        "        num_eachweek[date_of_week] = 1\n",
        "      else:\n",
        "        num_eachweek[date_of_week] += 1\n"
      ],
      "metadata": {
        "id": "zI8Zb26ogsDz"
      },
      "execution_count": null,
      "outputs": []
    },
    {
      "cell_type": "code",
      "source": [
        "num_job"
      ],
      "metadata": {
        "colab": {
          "base_uri": "https://localhost:8080/"
        },
        "id": "Rpi2zFg0ltM5",
        "outputId": "92ee3807-ccde-4156-ebf7-c2ab991d4431"
      },
      "execution_count": null,
      "outputs": [
        {
          "output_type": "execute_result",
          "data": {
            "text/plain": [
              "{'Chairman, CEO and President': 60,\n",
              " 'CEO Worldwide Consumer': 74,\n",
              " 'Senior Vice President and CFO': 28,\n",
              " 'Senior Vice President': 84,\n",
              " 'Vice President': 26,\n",
              " 'CEO Amazon Web Services': 27,\n",
              " '': 85}"
            ]
          },
          "metadata": {},
          "execution_count": 15
        }
      ]
    },
    {
      "cell_type": "code",
      "source": [
        "num_eachweek"
      ],
      "metadata": {
        "colab": {
          "base_uri": "https://localhost:8080/"
        },
        "id": "r-p3zbz0naMP",
        "outputId": "af1da578-7124-4434-bf8a-1b16e343a974"
      },
      "execution_count": null,
      "outputs": [
        {
          "output_type": "execute_result",
          "data": {
            "text/plain": [
              "{'2020-11-30': 2,\n",
              " '2020-11-23': 2,\n",
              " '2020-11-16': 2,\n",
              " '2020-11-09': 5,\n",
              " '2020-11-02': 9,\n",
              " '2020-10-19': 1,\n",
              " '2020-09-28': 4,\n",
              " '2020-09-07': 1,\n",
              " '2020-08-31': 1,\n",
              " '2020-08-24': 3,\n",
              " '2020-08-10': 6,\n",
              " '2020-08-03': 5,\n",
              " '2020-06-29': 1,\n",
              " '2020-05-18': 2,\n",
              " '2020-05-11': 6,\n",
              " '2020-05-04': 2,\n",
              " '2020-04-13': 1,\n",
              " '2020-03-30': 1,\n",
              " '2020-03-02': 1,\n",
              " '2020-02-17': 2,\n",
              " '2020-02-10': 6,\n",
              " '2020-02-03': 5,\n",
              " '2020-01-27': 3,\n",
              " '2019-12-23': 2,\n",
              " '2019-11-18': 2,\n",
              " '2019-11-11': 7,\n",
              " '2019-09-09': 1,\n",
              " '2019-09-02': 1,\n",
              " '2019-08-26': 2,\n",
              " '2019-08-19': 1,\n",
              " '2019-08-12': 6,\n",
              " '2019-07-29': 5,\n",
              " '2019-07-08': 2,\n",
              " '2019-05-20': 1,\n",
              " '2019-05-13': 7,\n",
              " '2019-05-06': 1,\n",
              " '2019-04-29': 1,\n",
              " '2019-03-18': 1,\n",
              " '2019-02-25': 1,\n",
              " '2019-02-18': 2,\n",
              " '2019-02-11': 6,\n",
              " '2019-02-04': 2,\n",
              " '2018-11-26': 1,\n",
              " '2018-11-19': 2,\n",
              " '2018-11-12': 7,\n",
              " '2018-10-29': 2,\n",
              " '2018-09-10': 1,\n",
              " '2018-09-03': 2,\n",
              " '2018-08-27': 1,\n",
              " '2018-08-20': 2,\n",
              " '2018-08-13': 7,\n",
              " '2018-07-30': 1,\n",
              " '2018-05-21': 1,\n",
              " '2018-05-14': 7,\n",
              " '2018-04-30': 2,\n",
              " '2018-04-02': 6,\n",
              " '2018-03-19': 1,\n",
              " '2018-03-05': 2,\n",
              " '2018-02-26': 3,\n",
              " '2018-02-19': 3,\n",
              " '2018-02-12': 8,\n",
              " '2017-12-04': 1,\n",
              " '2017-11-13': 7,\n",
              " '2017-10-30': 1,\n",
              " '2017-08-21': 1,\n",
              " '2017-08-14': 7,\n",
              " '2017-07-31': 1,\n",
              " '2017-06-26': 1,\n",
              " '2017-06-05': 1,\n",
              " '2017-05-22': 1,\n",
              " '2017-05-15': 6,\n",
              " '2017-05-08': 1,\n",
              " '2017-05-01': 3,\n",
              " '2017-02-20': 1,\n",
              " '2017-02-13': 7,\n",
              " '2016-12-26': 1,\n",
              " '2016-12-05': 1,\n",
              " '2016-11-28': 1,\n",
              " '2016-11-14': 6,\n",
              " '2016-10-31': 1,\n",
              " '2016-09-19': 1,\n",
              " '2016-08-15': 7,\n",
              " '2016-08-01': 2,\n",
              " '2016-05-09': 8,\n",
              " '2016-05-02': 2,\n",
              " '2016-04-04': 6,\n",
              " '2016-02-22': 1,\n",
              " '2016-02-15': 8,\n",
              " '2015-11-09': 8,\n",
              " '2015-11-02': 3,\n",
              " '2015-08-10': 7,\n",
              " '2015-08-03': 2,\n",
              " '2015-06-08': 1,\n",
              " '2015-06-01': 1,\n",
              " '2015-05-11': 8,\n",
              " '2015-04-27': 2,\n",
              " '2015-02-16': 1,\n",
              " '2015-02-09': 7}"
            ]
          },
          "metadata": {},
          "execution_count": 16
        }
      ]
    },
    {
      "cell_type": "code",
      "source": [
        "# Add all the weeks(shown as the first date of the week) between 2015-01-01 to 2020-12-31 to the dictionary.\n",
        "next_monday = '2014-12-29'\n",
        "while next_monday != '2021-01-04':\n",
        "  next_monday = str(datetime.strptime(next_monday,'%Y-%m-%d') + timedelta(days=7))[:10]\n",
        "  if next_monday not in num_eachweek.keys():\n",
        "    num_eachweek[next_monday] = 0\n"
      ],
      "metadata": {
        "id": "-BcLCvlgHwO4"
      },
      "execution_count": null,
      "outputs": []
    },
    {
      "cell_type": "code",
      "source": [
        "# Plot the time series \n",
        "figure(figsize=(15, 5), dpi=80)\n",
        "x,y = zip(*sorted(num_eachweek.items()))\n",
        "plt.plot(x,y)\n",
        "plt.xticks(rotation=90)\n",
        "plt.gca().xaxis.set_major_locator(MaxNLocator(20))\n",
        "plt.show()"
      ],
      "metadata": {
        "colab": {
          "base_uri": "https://localhost:8080/",
          "height": 407
        },
        "id": "ipsjt5ljlwsF",
        "outputId": "ae5a1e4d-83b9-406c-fd4f-e022280a6c8e"
      },
      "execution_count": null,
      "outputs": [
        {
          "output_type": "display_data",
          "data": {
            "text/plain": [
              "<Figure size 1200x400 with 1 Axes>"
            ],
            "image/png": "[encoded data removed]"
          },
          "metadata": {
            "needs_background": "light"
          }
        }
      ]
    },
    {
      "cell_type": "code",
      "source": [
        "num_eachweek"
      ],
      "metadata": {
        "id": "ECk2QnV0H62f",
        "colab": {
          "base_uri": "https://localhost:8080/"
        },
        "outputId": "b7e05370-9590-4882-ac18-0cb2a7eda0b0"
      },
      "execution_count": null,
      "outputs": [
        {
          "output_type": "execute_result",
          "data": {
            "text/plain": [
              "{'2020-11-30': 2,\n",
              " '2020-11-23': 2,\n",
              " '2020-11-16': 2,\n",
              " '2020-11-09': 5,\n",
              " '2020-11-02': 9,\n",
              " '2020-10-19': 1,\n",
              " '2020-09-28': 4,\n",
              " '2020-09-07': 1,\n",
              " '2020-08-31': 1,\n",
              " '2020-08-24': 3,\n",
              " '2020-08-10': 6,\n",
              " '2020-08-03': 5,\n",
              " '2020-06-29': 1,\n",
              " '2020-05-18': 2,\n",
              " '2020-05-11': 6,\n",
              " '2020-05-04': 2,\n",
              " '2020-04-13': 1,\n",
              " '2020-03-30': 1,\n",
              " '2020-03-02': 1,\n",
              " '2020-02-17': 2,\n",
              " '2020-02-10': 6,\n",
              " '2020-02-03': 5,\n",
              " '2020-01-27': 3,\n",
              " '2019-12-23': 2,\n",
              " '2019-11-18': 2,\n",
              " '2019-11-11': 7,\n",
              " '2019-09-09': 1,\n",
              " '2019-09-02': 1,\n",
              " '2019-08-26': 2,\n",
              " '2019-08-19': 1,\n",
              " '2019-08-12': 6,\n",
              " '2019-07-29': 5,\n",
              " '2019-07-08': 2,\n",
              " '2019-05-20': 1,\n",
              " '2019-05-13': 7,\n",
              " '2019-05-06': 1,\n",
              " '2019-04-29': 1,\n",
              " '2019-03-18': 1,\n",
              " '2019-02-25': 1,\n",
              " '2019-02-18': 2,\n",
              " '2019-02-11': 6,\n",
              " '2019-02-04': 2,\n",
              " '2018-11-26': 1,\n",
              " '2018-11-19': 2,\n",
              " '2018-11-12': 7,\n",
              " '2018-10-29': 2,\n",
              " '2018-09-10': 1,\n",
              " '2018-09-03': 2,\n",
              " '2018-08-27': 1,\n",
              " '2018-08-20': 2,\n",
              " '2018-08-13': 7,\n",
              " '2018-07-30': 1,\n",
              " '2018-05-21': 1,\n",
              " '2018-05-14': 7,\n",
              " '2018-04-30': 2,\n",
              " '2018-04-02': 6,\n",
              " '2018-03-19': 1,\n",
              " '2018-03-05': 2,\n",
              " '2018-02-26': 3,\n",
              " '2018-02-19': 3,\n",
              " '2018-02-12': 8,\n",
              " '2017-12-04': 1,\n",
              " '2017-11-13': 7,\n",
              " '2017-10-30': 1,\n",
              " '2017-08-21': 1,\n",
              " '2017-08-14': 7,\n",
              " '2017-07-31': 1,\n",
              " '2017-06-26': 1,\n",
              " '2017-06-05': 1,\n",
              " '2017-05-22': 1,\n",
              " '2017-05-15': 6,\n",
              " '2017-05-08': 1,\n",
              " '2017-05-01': 3,\n",
              " '2017-02-20': 1,\n",
              " '2017-02-13': 7,\n",
              " '2016-12-26': 1,\n",
              " '2016-12-05': 1,\n",
              " '2016-11-28': 1,\n",
              " '2016-11-14': 6,\n",
              " '2016-10-31': 1,\n",
              " '2016-09-19': 1,\n",
              " '2016-08-15': 7,\n",
              " '2016-08-01': 2,\n",
              " '2016-05-09': 8,\n",
              " '2016-05-02': 2,\n",
              " '2016-04-04': 6,\n",
              " '2016-02-22': 1,\n",
              " '2016-02-15': 8,\n",
              " '2015-11-09': 8,\n",
              " '2015-11-02': 3,\n",
              " '2015-08-10': 7,\n",
              " '2015-08-03': 2,\n",
              " '2015-06-08': 1,\n",
              " '2015-06-01': 1,\n",
              " '2015-05-11': 8,\n",
              " '2015-04-27': 2,\n",
              " '2015-02-16': 1,\n",
              " '2015-02-09': 7,\n",
              " '2015-01-05': 0,\n",
              " '2015-01-12': 0,\n",
              " '2015-01-19': 0,\n",
              " '2015-01-26': 0,\n",
              " '2015-02-02': 0,\n",
              " '2015-02-23': 0,\n",
              " '2015-03-02': 0,\n",
              " '2015-03-09': 0,\n",
              " '2015-03-16': 0,\n",
              " '2015-03-23': 0,\n",
              " '2015-03-30': 0,\n",
              " '2015-04-06': 0,\n",
              " '2015-04-13': 0,\n",
              " '2015-04-20': 0,\n",
              " '2015-05-04': 0,\n",
              " '2015-05-18': 0,\n",
              " '2015-05-25': 0,\n",
              " '2015-06-15': 0,\n",
              " '2015-06-22': 0,\n",
              " '2015-06-29': 0,\n",
              " '2015-07-06': 0,\n",
              " '2015-07-13': 0,\n",
              " '2015-07-20': 0,\n",
              " '2015-07-27': 0,\n",
              " '2015-08-17': 0,\n",
              " '2015-08-24': 0,\n",
              " '2015-08-31': 0,\n",
              " '2015-09-07': 0,\n",
              " '2015-09-14': 0,\n",
              " '2015-09-21': 0,\n",
              " '2015-09-28': 0,\n",
              " '2015-10-05': 0,\n",
              " '2015-10-12': 0,\n",
              " '2015-10-19': 0,\n",
              " '2015-10-26': 0,\n",
              " '2015-11-16': 0,\n",
              " '2015-11-23': 0,\n",
              " '2015-11-30': 0,\n",
              " '2015-12-07': 0,\n",
              " '2015-12-14': 0,\n",
              " '2015-12-21': 0,\n",
              " '2015-12-28': 0,\n",
              " '2016-01-04': 0,\n",
              " '2016-01-11': 0,\n",
              " '2016-01-18': 0,\n",
              " '2016-01-25': 0,\n",
              " '2016-02-01': 0,\n",
              " '2016-02-08': 0,\n",
              " '2016-02-29': 0,\n",
              " '2016-03-07': 0,\n",
              " '2016-03-14': 0,\n",
              " '2016-03-21': 0,\n",
              " '2016-03-28': 0,\n",
              " '2016-04-11': 0,\n",
              " '2016-04-18': 0,\n",
              " '2016-04-25': 0,\n",
              " '2016-05-16': 0,\n",
              " '2016-05-23': 0,\n",
              " '2016-05-30': 0,\n",
              " '2016-06-06': 0,\n",
              " '2016-06-13': 0,\n",
              " '2016-06-20': 0,\n",
              " '2016-06-27': 0,\n",
              " '2016-07-04': 0,\n",
              " '2016-07-11': 0,\n",
              " '2016-07-18': 0,\n",
              " '2016-07-25': 0,\n",
              " '2016-08-08': 0,\n",
              " '2016-08-22': 0,\n",
              " '2016-08-29': 0,\n",
              " '2016-09-05': 0,\n",
              " '2016-09-12': 0,\n",
              " '2016-09-26': 0,\n",
              " '2016-10-03': 0,\n",
              " '2016-10-10': 0,\n",
              " '2016-10-17': 0,\n",
              " '2016-10-24': 0,\n",
              " '2016-11-07': 0,\n",
              " '2016-11-21': 0,\n",
              " '2016-12-12': 0,\n",
              " '2016-12-19': 0,\n",
              " '2017-01-02': 0,\n",
              " '2017-01-09': 0,\n",
              " '2017-01-16': 0,\n",
              " '2017-01-23': 0,\n",
              " '2017-01-30': 0,\n",
              " '2017-02-06': 0,\n",
              " '2017-02-27': 0,\n",
              " '2017-03-06': 0,\n",
              " '2017-03-13': 0,\n",
              " '2017-03-20': 0,\n",
              " '2017-03-27': 0,\n",
              " '2017-04-03': 0,\n",
              " '2017-04-10': 0,\n",
              " '2017-04-17': 0,\n",
              " '2017-04-24': 0,\n",
              " '2017-05-29': 0,\n",
              " '2017-06-12': 0,\n",
              " '2017-06-19': 0,\n",
              " '2017-07-03': 0,\n",
              " '2017-07-10': 0,\n",
              " '2017-07-17': 0,\n",
              " '2017-07-24': 0,\n",
              " '2017-08-07': 0,\n",
              " '2017-08-28': 0,\n",
              " '2017-09-04': 0,\n",
              " '2017-09-11': 0,\n",
              " '2017-09-18': 0,\n",
              " '2017-09-25': 0,\n",
              " '2017-10-02': 0,\n",
              " '2017-10-09': 0,\n",
              " '2017-10-16': 0,\n",
              " '2017-10-23': 0,\n",
              " '2017-11-06': 0,\n",
              " '2017-11-20': 0,\n",
              " '2017-11-27': 0,\n",
              " '2017-12-11': 0,\n",
              " '2017-12-18': 0,\n",
              " '2017-12-25': 0,\n",
              " '2018-01-01': 0,\n",
              " '2018-01-08': 0,\n",
              " '2018-01-15': 0,\n",
              " '2018-01-22': 0,\n",
              " '2018-01-29': 0,\n",
              " '2018-02-05': 0,\n",
              " '2018-03-12': 0,\n",
              " '2018-03-26': 0,\n",
              " '2018-04-09': 0,\n",
              " '2018-04-16': 0,\n",
              " '2018-04-23': 0,\n",
              " '2018-05-07': 0,\n",
              " '2018-05-28': 0,\n",
              " '2018-06-04': 0,\n",
              " '2018-06-11': 0,\n",
              " '2018-06-18': 0,\n",
              " '2018-06-25': 0,\n",
              " '2018-07-02': 0,\n",
              " '2018-07-09': 0,\n",
              " '2018-07-16': 0,\n",
              " '2018-07-23': 0,\n",
              " '2018-08-06': 0,\n",
              " '2018-09-17': 0,\n",
              " '2018-09-24': 0,\n",
              " '2018-10-01': 0,\n",
              " '2018-10-08': 0,\n",
              " '2018-10-15': 0,\n",
              " '2018-10-22': 0,\n",
              " '2018-11-05': 0,\n",
              " '2018-12-03': 0,\n",
              " '2018-12-10': 0,\n",
              " '2018-12-17': 0,\n",
              " '2018-12-24': 0,\n",
              " '2018-12-31': 0,\n",
              " '2019-01-07': 0,\n",
              " '2019-01-14': 0,\n",
              " '2019-01-21': 0,\n",
              " '2019-01-28': 0,\n",
              " '2019-03-04': 0,\n",
              " '2019-03-11': 0,\n",
              " '2019-03-25': 0,\n",
              " '2019-04-01': 0,\n",
              " '2019-04-08': 0,\n",
              " '2019-04-15': 0,\n",
              " '2019-04-22': 0,\n",
              " '2019-05-27': 0,\n",
              " '2019-06-03': 0,\n",
              " '2019-06-10': 0,\n",
              " '2019-06-17': 0,\n",
              " '2019-06-24': 0,\n",
              " '2019-07-01': 0,\n",
              " '2019-07-15': 0,\n",
              " '2019-07-22': 0,\n",
              " '2019-08-05': 0,\n",
              " '2019-09-16': 0,\n",
              " '2019-09-23': 0,\n",
              " '2019-09-30': 0,\n",
              " '2019-10-07': 0,\n",
              " '2019-10-14': 0,\n",
              " '2019-10-21': 0,\n",
              " '2019-10-28': 0,\n",
              " '2019-11-04': 0,\n",
              " '2019-11-25': 0,\n",
              " '2019-12-02': 0,\n",
              " '2019-12-09': 0,\n",
              " '2019-12-16': 0,\n",
              " '2019-12-30': 0,\n",
              " '2020-01-06': 0,\n",
              " '2020-01-13': 0,\n",
              " '2020-01-20': 0,\n",
              " '2020-02-24': 0,\n",
              " '2020-03-09': 0,\n",
              " '2020-03-16': 0,\n",
              " '2020-03-23': 0,\n",
              " '2020-04-06': 0,\n",
              " '2020-04-20': 0,\n",
              " '2020-04-27': 0,\n",
              " '2020-05-25': 0,\n",
              " '2020-06-01': 0,\n",
              " '2020-06-08': 0,\n",
              " '2020-06-15': 0,\n",
              " '2020-06-22': 0,\n",
              " '2020-07-06': 0,\n",
              " '2020-07-13': 0,\n",
              " '2020-07-20': 0,\n",
              " '2020-07-27': 0,\n",
              " '2020-08-17': 0,\n",
              " '2020-09-14': 0,\n",
              " '2020-09-21': 0,\n",
              " '2020-10-05': 0,\n",
              " '2020-10-12': 0,\n",
              " '2020-10-26': 0,\n",
              " '2020-12-07': 0,\n",
              " '2020-12-14': 0,\n",
              " '2020-12-21': 0,\n",
              " '2020-12-28': 0,\n",
              " '2021-01-04': 0}"
            ]
          },
          "metadata": {},
          "execution_count": 19
        }
      ]
    },
    {
      "cell_type": "code",
      "source": [
        "# Second way to plot (using data frame).\n",
        "df = pd.DataFrame.from_dict(num_eachweek,orient='index',columns=['num'])"
      ],
      "metadata": {
        "id": "yG2_jN8_oBGi"
      },
      "execution_count": null,
      "outputs": []
    },
    {
      "cell_type": "code",
      "source": [
        "df"
      ],
      "metadata": {
        "colab": {
          "base_uri": "https://localhost:8080/",
          "height": 424
        },
        "id": "4HSpuyPIpoK3",
        "outputId": "e4e95176-32e6-4e23-a370-5a5d8c6de5e9"
      },
      "execution_count": null,
      "outputs": [
        {
          "output_type": "execute_result",
          "data": {
            "text/plain": [
              "            num\n",
              "2020-11-30    2\n",
              "2020-11-23    2\n",
              "2020-11-16    2\n",
              "2020-11-09    5\n",
              "2020-11-02    9\n",
              "...         ...\n",
              "2020-12-07    0\n",
              "2020-12-14    0\n",
              "2020-12-21    0\n",
              "2020-12-28    0\n",
              "2021-01-04    0\n",
              "\n",
              "[314 rows x 1 columns]"
            ],
            "text/html": [
              "\n",
              "  <div id=\"df-56fd4eac-f138-4770-b8c9-76c40478ff7d\">\n",
              "    <div class=\"colab-df-container\">\n",
              "      <div>\n",
              "<style scoped>\n",
              "    .dataframe tbody tr th:only-of-type {\n",
              "        vertical-align: middle;\n",
              "    }\n",
              "\n",
              "    .dataframe tbody tr th {\n",
              "        vertical-align: top;\n",
              "    }\n",
              "\n",
              "    .dataframe thead th {\n",
              "        text-align: right;\n",
              "    }\n",
              "</style>\n",
              "<table border=\"1\" class=\"dataframe\">\n",
              "  <thead>\n",
              "    <tr style=\"text-align: right;\">\n",
              "      <th></th>\n",
              "      <th>num</th>\n",
              "    </tr>\n",
              "  </thead>\n",
              "  <tbody>\n",
              "    <tr>\n",
              "      <th>2020-11-30</th>\n",
              "      <td>2</td>\n",
              "    </tr>\n",
              "    <tr>\n",
              "      <th>2020-11-23</th>\n",
              "      <td>2</td>\n",
              "    </tr>\n",
              "    <tr>\n",
              "      <th>2020-11-16</th>\n",
              "      <td>2</td>\n",
              "    </tr>\n",
              "    <tr>\n",
              "      <th>2020-11-09</th>\n",
              "      <td>5</td>\n",
              "    </tr>\n",
              "    <tr>\n",
              "      <th>2020-11-02</th>\n",
              "      <td>9</td>\n",
              "    </tr>\n",
              "    <tr>\n",
              "      <th>...</th>\n",
              "      <td>...</td>\n",
              "    </tr>\n",
              "    <tr>\n",
              "      <th>2020-12-07</th>\n",
              "      <td>0</td>\n",
              "    </tr>\n",
              "    <tr>\n",
              "      <th>2020-12-14</th>\n",
              "      <td>0</td>\n",
              "    </tr>\n",
              "    <tr>\n",
              "      <th>2020-12-21</th>\n",
              "      <td>0</td>\n",
              "    </tr>\n",
              "    <tr>\n",
              "      <th>2020-12-28</th>\n",
              "      <td>0</td>\n",
              "    </tr>\n",
              "    <tr>\n",
              "      <th>2021-01-04</th>\n",
              "      <td>0</td>\n",
              "    </tr>\n",
              "  </tbody>\n",
              "</table>\n",
              "<p>314 rows × 1 columns</p>\n",
              "</div>\n",
              "      <button class=\"colab-df-convert\" onclick=\"convertToInteractive('df-56fd4eac-f138-4770-b8c9-76c40478ff7d')\"\n",
              "              title=\"Convert this dataframe to an interactive table.\"\n",
              "              style=\"display:none;\">\n",
              "        \n",
              "  <svg xmlns=\"http://www.w3.org/2000/svg\" height=\"24px\"viewBox=\"0 0 24 24\"\n",
              "       width=\"24px\">\n",
              "    <path d=\"M0 0h24v24H0V0z\" fill=\"none\"/>\n",
              "    <path d=\"M18.56 5.44l.94 2.06.94-2.06 2.06-.94-2.06-.94-.94-2.06-.94 2.06-2.06.94zm-11 1L8.5 8.5l.94-2.06 2.06-.94-2.06-.94L8.5 2.5l-.94 2.06-2.06.94zm10 10l.94 2.06.94-2.06 2.06-.94-2.06-.94-.94-2.06-.94 2.06-2.06.94z\"/><path d=\"M17.41 7.96l-1.37-1.37c-.4-.4-.92-.59-1.43-.59-.52 0-1.04.2-1.43.59L10.3 9.45l-7.72 7.72c-.78.78-.78 2.05 0 2.83L4 21.41c.39.39.9.59 1.41.59.51 0 1.02-.2 1.41-.59l7.78-7.78 2.81-2.81c.8-.78.8-2.07 0-2.86zM5.41 20L4 18.59l7.72-7.72 1.47 1.35L5.41 20z\"/>\n",
              "  </svg>\n",
              "      </button>\n",
              "      \n",
              "  <style>\n",
              "    .colab-df-container {\n",
              "      display:flex;\n",
              "      flex-wrap:wrap;\n",
              "      gap: 12px;\n",
              "    }\n",
              "\n",
              "    .colab-df-convert {\n",
              "      background-color: #E8F0FE;\n",
              "      border: none;\n",
              "      border-radius: 50%;\n",
              "      cursor: pointer;\n",
              "      display: none;\n",
              "      fill: #1967D2;\n",
              "      height: 32px;\n",
              "      padding: 0 0 0 0;\n",
              "      width: 32px;\n",
              "    }\n",
              "\n",
              "    .colab-df-convert:hover {\n",
              "      background-color: #E2EBFA;\n",
              "      box-shadow: 0px 1px 2px rgba(60, 64, 67, 0.3), 0px 1px 3px 1px rgba(60, 64, 67, 0.15);\n",
              "      fill: #174EA6;\n",
              "    }\n",
              "\n",
              "    [theme=dark] .colab-df-convert {\n",
              "      background-color: #3B4455;\n",
              "      fill: #D2E3FC;\n",
              "    }\n",
              "\n",
              "    [theme=dark] .colab-df-convert:hover {\n",
              "      background-color: #434B5C;\n",
              "      box-shadow: 0px 1px 3px 1px rgba(0, 0, 0, 0.15);\n",
              "      filter: drop-shadow(0px 1px 2px rgba(0, 0, 0, 0.3));\n",
              "      fill: #FFFFFF;\n",
              "    }\n",
              "  </style>\n",
              "\n",
              "      <script>\n",
              "        const buttonEl =\n",
              "          document.querySelector('#df-56fd4eac-f138-4770-b8c9-76c40478ff7d button.colab-df-convert');\n",
              "        buttonEl.style.display =\n",
              "          google.colab.kernel.accessAllowed ? 'block' : 'none';\n",
              "\n",
              "        async function convertToInteractive(key) {\n",
              "          const element = document.querySelector('#df-56fd4eac-f138-4770-b8c9-76c40478ff7d');\n",
              "          const dataTable =\n",
              "            await google.colab.kernel.invokeFunction('convertToInteractive',\n",
              "                                                     [key], {});\n",
              "          if (!dataTable) return;\n",
              "\n",
              "          const docLinkHtml = 'Like what you see? Visit the ' +\n",
              "            '<a target=\"_blank\" href=https://colab.research.google.com/notebooks/data_table.ipynb>data table notebook</a>'\n",
              "            + ' to learn more about interactive tables.';\n",
              "          element.innerHTML = '';\n",
              "          dataTable['output_type'] = 'display_data';\n",
              "          await google.colab.output.renderOutput(dataTable, element);\n",
              "          const docLink = document.createElement('div');\n",
              "          docLink.innerHTML = docLinkHtml;\n",
              "          element.appendChild(docLink);\n",
              "        }\n",
              "      </script>\n",
              "    </div>\n",
              "  </div>\n",
              "  "
            ]
          },
          "metadata": {},
          "execution_count": 21
        }
      ]
    },
    {
      "cell_type": "code",
      "source": [
        "df.sort_index()"
      ],
      "metadata": {
        "colab": {
          "base_uri": "https://localhost:8080/",
          "height": 424
        },
        "id": "-Ow0gB89o1_O",
        "outputId": "0cc3dd06-36fb-4bd1-deb4-9929699651da"
      },
      "execution_count": null,
      "outputs": [
        {
          "output_type": "execute_result",
          "data": {
            "text/plain": [
              "            num\n",
              "2015-01-05    0\n",
              "2015-01-12    0\n",
              "2015-01-19    0\n",
              "2015-01-26    0\n",
              "2015-02-02    0\n",
              "...         ...\n",
              "2020-12-07    0\n",
              "2020-12-14    0\n",
              "2020-12-21    0\n",
              "2020-12-28    0\n",
              "2021-01-04    0\n",
              "\n",
              "[314 rows x 1 columns]"
            ],
            "text/html": [
              "\n",
              "  <div id=\"df-6dac9ade-f4d0-4de8-92cd-c46afef4282c\">\n",
              "    <div class=\"colab-df-container\">\n",
              "      <div>\n",
              "<style scoped>\n",
              "    .dataframe tbody tr th:only-of-type {\n",
              "        vertical-align: middle;\n",
              "    }\n",
              "\n",
              "    .dataframe tbody tr th {\n",
              "        vertical-align: top;\n",
              "    }\n",
              "\n",
              "    .dataframe thead th {\n",
              "        text-align: right;\n",
              "    }\n",
              "</style>\n",
              "<table border=\"1\" class=\"dataframe\">\n",
              "  <thead>\n",
              "    <tr style=\"text-align: right;\">\n",
              "      <th></th>\n",
              "      <th>num</th>\n",
              "    </tr>\n",
              "  </thead>\n",
              "  <tbody>\n",
              "    <tr>\n",
              "      <th>2015-01-05</th>\n",
              "      <td>0</td>\n",
              "    </tr>\n",
              "    <tr>\n",
              "      <th>2015-01-12</th>\n",
              "      <td>0</td>\n",
              "    </tr>\n",
              "    <tr>\n",
              "      <th>2015-01-19</th>\n",
              "      <td>0</td>\n",
              "    </tr>\n",
              "    <tr>\n",
              "      <th>2015-01-26</th>\n",
              "      <td>0</td>\n",
              "    </tr>\n",
              "    <tr>\n",
              "      <th>2015-02-02</th>\n",
              "      <td>0</td>\n",
              "    </tr>\n",
              "    <tr>\n",
              "      <th>...</th>\n",
              "      <td>...</td>\n",
              "    </tr>\n",
              "    <tr>\n",
              "      <th>2020-12-07</th>\n",
              "      <td>0</td>\n",
              "    </tr>\n",
              "    <tr>\n",
              "      <th>2020-12-14</th>\n",
              "      <td>0</td>\n",
              "    </tr>\n",
              "    <tr>\n",
              "      <th>2020-12-21</th>\n",
              "      <td>0</td>\n",
              "    </tr>\n",
              "    <tr>\n",
              "      <th>2020-12-28</th>\n",
              "      <td>0</td>\n",
              "    </tr>\n",
              "    <tr>\n",
              "      <th>2021-01-04</th>\n",
              "      <td>0</td>\n",
              "    </tr>\n",
              "  </tbody>\n",
              "</table>\n",
              "<p>314 rows × 1 columns</p>\n",
              "</div>\n",
              "      <button class=\"colab-df-convert\" onclick=\"convertToInteractive('df-6dac9ade-f4d0-4de8-92cd-c46afef4282c')\"\n",
              "              title=\"Convert this dataframe to an interactive table.\"\n",
              "              style=\"display:none;\">\n",
              "        \n",
              "  <svg xmlns=\"http://www.w3.org/2000/svg\" height=\"24px\"viewBox=\"0 0 24 24\"\n",
              "       width=\"24px\">\n",
              "    <path d=\"M0 0h24v24H0V0z\" fill=\"none\"/>\n",
              "    <path d=\"M18.56 5.44l.94 2.06.94-2.06 2.06-.94-2.06-.94-.94-2.06-.94 2.06-2.06.94zm-11 1L8.5 8.5l.94-2.06 2.06-.94-2.06-.94L8.5 2.5l-.94 2.06-2.06.94zm10 10l.94 2.06.94-2.06 2.06-.94-2.06-.94-.94-2.06-.94 2.06-2.06.94z\"/><path d=\"M17.41 7.96l-1.37-1.37c-.4-.4-.92-.59-1.43-.59-.52 0-1.04.2-1.43.59L10.3 9.45l-7.72 7.72c-.78.78-.78 2.05 0 2.83L4 21.41c.39.39.9.59 1.41.59.51 0 1.02-.2 1.41-.59l7.78-7.78 2.81-2.81c.8-.78.8-2.07 0-2.86zM5.41 20L4 18.59l7.72-7.72 1.47 1.35L5.41 20z\"/>\n",
              "  </svg>\n",
              "      </button>\n",
              "      \n",
              "  <style>\n",
              "    .colab-df-container {\n",
              "      display:flex;\n",
              "      flex-wrap:wrap;\n",
              "      gap: 12px;\n",
              "    }\n",
              "\n",
              "    .colab-df-convert {\n",
              "      background-color: #E8F0FE;\n",
              "      border: none;\n",
              "      border-radius: 50%;\n",
              "      cursor: pointer;\n",
              "      display: none;\n",
              "      fill: #1967D2;\n",
              "      height: 32px;\n",
              "      padding: 0 0 0 0;\n",
              "      width: 32px;\n",
              "    }\n",
              "\n",
              "    .colab-df-convert:hover {\n",
              "      background-color: #E2EBFA;\n",
              "      box-shadow: 0px 1px 2px rgba(60, 64, 67, 0.3), 0px 1px 3px 1px rgba(60, 64, 67, 0.15);\n",
              "      fill: #174EA6;\n",
              "    }\n",
              "\n",
              "    [theme=dark] .colab-df-convert {\n",
              "      background-color: #3B4455;\n",
              "      fill: #D2E3FC;\n",
              "    }\n",
              "\n",
              "    [theme=dark] .colab-df-convert:hover {\n",
              "      background-color: #434B5C;\n",
              "      box-shadow: 0px 1px 3px 1px rgba(0, 0, 0, 0.15);\n",
              "      filter: drop-shadow(0px 1px 2px rgba(0, 0, 0, 0.3));\n",
              "      fill: #FFFFFF;\n",
              "    }\n",
              "  </style>\n",
              "\n",
              "      <script>\n",
              "        const buttonEl =\n",
              "          document.querySelector('#df-6dac9ade-f4d0-4de8-92cd-c46afef4282c button.colab-df-convert');\n",
              "        buttonEl.style.display =\n",
              "          google.colab.kernel.accessAllowed ? 'block' : 'none';\n",
              "\n",
              "        async function convertToInteractive(key) {\n",
              "          const element = document.querySelector('#df-6dac9ade-f4d0-4de8-92cd-c46afef4282c');\n",
              "          const dataTable =\n",
              "            await google.colab.kernel.invokeFunction('convertToInteractive',\n",
              "                                                     [key], {});\n",
              "          if (!dataTable) return;\n",
              "\n",
              "          const docLinkHtml = 'Like what you see? Visit the ' +\n",
              "            '<a target=\"_blank\" href=https://colab.research.google.com/notebooks/data_table.ipynb>data table notebook</a>'\n",
              "            + ' to learn more about interactive tables.';\n",
              "          element.innerHTML = '';\n",
              "          dataTable['output_type'] = 'display_data';\n",
              "          await google.colab.output.renderOutput(dataTable, element);\n",
              "          const docLink = document.createElement('div');\n",
              "          docLink.innerHTML = docLinkHtml;\n",
              "          element.appendChild(docLink);\n",
              "        }\n",
              "      </script>\n",
              "    </div>\n",
              "  </div>\n",
              "  "
            ]
          },
          "metadata": {},
          "execution_count": 22
        }
      ]
    },
    {
      "cell_type": "code",
      "source": [
        "df.sort_index().plot(figsize=(15,8), title='number of Form 4 each week')"
      ],
      "metadata": {
        "colab": {
          "base_uri": "https://localhost:8080/",
          "height": 517
        },
        "id": "YpFVgtH8oZoc",
        "outputId": "6ba8f039-3f04-48b5-ad1e-a51d9946a9ee"
      },
      "execution_count": null,
      "outputs": [
        {
          "output_type": "execute_result",
          "data": {
            "text/plain": [
              "<matplotlib.axes._subplots.AxesSubplot at 0x7f5bfd52a350>"
            ]
          },
          "metadata": {},
          "execution_count": 23
        },
        {
          "output_type": "display_data",
          "data": {
            "text/plain": [
              "<Figure size 1080x576 with 1 Axes>"
            ],
            "image/png": "[encoded data removed]"
          },
          "metadata": {
            "needs_background": "light"
          }
        }
      ]
    },
    {
      "cell_type": "code",
      "source": [],
      "metadata": {
        "id": "-zs3RAISdv7N"
      },
      "execution_count": null,
      "outputs": []
    }
  ]
}